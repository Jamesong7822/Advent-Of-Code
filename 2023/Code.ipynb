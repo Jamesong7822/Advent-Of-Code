{
 "cells": [
  {
   "cell_type": "markdown",
   "metadata": {},
   "source": [
    "# Advent Of Code 2023"
   ]
  },
  {
   "cell_type": "code",
   "execution_count": 1,
   "metadata": {},
   "outputs": [],
   "source": [
    "import re\n",
    "import numpy as np"
   ]
  },
  {
   "cell_type": "markdown",
   "metadata": {},
   "source": [
    "## Day 1: Trebuchet?!\n",
    "\n",
    "Something is wrong with global snow production, and you've been selected to take a look. The Elves have even given you a map; on it, they've used stars to mark the top fifty locations that are likely to be having problems.\n",
    "\n",
    "You've been doing this long enough to know that to restore snow operations, you need to check all fifty stars by December 25th.\n",
    "\n",
    "Collect stars by solving puzzles. Two puzzles will be made available on each day in the Advent calendar; the second puzzle is unlocked when you complete the first. Each puzzle grants one star. Good luck!\n",
    "\n",
    "You try to ask why they can't just use a weather machine (\"not powerful enough\") and where they're even sending you (\"the sky\") and why your map looks mostly blank (\"you sure ask a lot of questions\") and hang on did you just say the sky (\"of course, where do you think snow comes from\") when you realize that the Elves are already loading you into a trebuchet (\"please hold still, we need to strap you in\").\n",
    "\n",
    "As they're making the final adjustments, they discover that their calibration document (your puzzle input) has been amended by a very young Elf who was apparently just excited to show off her art skills. Consequently, the Elves are having trouble reading the values on the document.\n",
    "\n",
    "The newly-improved calibration document consists of lines of text; each line originally contained a specific calibration value that the Elves now need to recover. On each line, the calibration value can be found by combining the first digit and the last digit (in that order) to form a single two-digit number.\n",
    "\n",
    "For example:\n",
    "```\n",
    "1abc2\n",
    "pqr3stu8vwx\n",
    "a1b2c3d4e5f\n",
    "treb7uchet\n",
    "```\n",
    "In this example, the calibration values of these four lines are 12, 38, 15, and 77. Adding these together produces 142.\n",
    "\n",
    "Consider your entire calibration document. What is the sum of all of the calibration values?"
   ]
  },
  {
   "cell_type": "code",
   "execution_count": 2,
   "metadata": {},
   "outputs": [],
   "source": [
    "def getCalValue(line):\n",
    "    numerics = [x for x in line if x.isnumeric()]\n",
    "    return int(\"\".join([numerics[0], numerics[-1]]))"
   ]
  },
  {
   "cell_type": "code",
   "execution_count": 3,
   "metadata": {},
   "outputs": [
    {
     "data": {
      "text/plain": [
       "54573"
      ]
     },
     "execution_count": 3,
     "metadata": {},
     "output_type": "execute_result"
    }
   ],
   "source": [
    "with open(\"Code Inputs/Day 1.txt\", \"r\") as f:\n",
    "    ans = sum([getCalValue(x) for x in f.read().splitlines()])\n",
    "ans"
   ]
  },
  {
   "cell_type": "markdown",
   "metadata": {},
   "source": [
    "--- Part Two ---\n",
    "\n",
    "Your calculation isn't quite right. It looks like some of the digits are actually spelled out with letters: one, two, three, four, five, six, seven, eight, and nine also count as valid \"digits\".\n",
    "\n",
    "Equipped with this new information, you now need to find the real first and last digit on each line. For example:\n",
    "```\n",
    "two1nine\n",
    "eightwothree\n",
    "abcone2threexyz\n",
    "xtwone3four\n",
    "4nineeightseven2\n",
    "zoneight234\n",
    "7pqrstsixteen\n",
    "``````\n",
    "In this example, the calibration values are 29, 83, 13, 24, 42, 14, and 76. Adding these together produces 281.\n",
    "\n",
    "What is the sum of all of the calibration values?"
   ]
  },
  {
   "cell_type": "code",
   "execution_count": 4,
   "metadata": {},
   "outputs": [],
   "source": [
    "def getCorrectCalValue(line):\n",
    "    mapper = {\n",
    "        \"one\": 1,\n",
    "        \"two\": 2,\n",
    "        \"three\": 3,\n",
    "        \"four\": 4,\n",
    "        \"five\": 5,\n",
    "        \"six\": 6,\n",
    "        \"seven\": 7,\n",
    "        \"eight\": 8,\n",
    "        \"nine\": 9,\n",
    "    }\n",
    "    search = \"|\".join(mapper.keys()) + \"|\\d\" # keyword is forward lookahead!\n",
    "    groups = re.findall(f\"(?=({search}))\", line)\n",
    "    numerics = []\n",
    "    for g in groups:\n",
    "        if g in mapper.keys():\n",
    "            numerics.append(str(mapper[g]))\n",
    "        else:\n",
    "            numerics.append(g)\n",
    "    return int(\"\".join([numerics[0], numerics[-1]]))"
   ]
  },
  {
   "cell_type": "code",
   "execution_count": 5,
   "metadata": {},
   "outputs": [],
   "source": [
    "assert getCorrectCalValue(\"two1nine\") == 29\n",
    "assert getCorrectCalValue(\"eightwothree\") == 83\n",
    "assert getCorrectCalValue(\"abcone2threexyz\") == 13\n",
    "assert getCorrectCalValue(\"xtwone3four\") == 24\n",
    "assert getCorrectCalValue(\"4nineeightseven2\") == 42\n",
    "assert getCorrectCalValue(\"zoneight234\") == 14\n",
    "assert getCorrectCalValue(\"7pqrstsixteen\") == 76\n",
    "# EXTRA - apparently overlapping spelt numbers are accepted\n",
    "assert getCorrectCalValue(\"sevenine\") == 79"
   ]
  },
  {
   "cell_type": "code",
   "execution_count": 6,
   "metadata": {},
   "outputs": [
    {
     "data": {
      "text/plain": [
       "54591"
      ]
     },
     "execution_count": 6,
     "metadata": {},
     "output_type": "execute_result"
    }
   ],
   "source": [
    "with open(\"Code Inputs/Day 1.txt\", \"r\") as f:\n",
    "    ans = sum([getCorrectCalValue(x) for x in f.read().splitlines()])\n",
    "ans"
   ]
  },
  {
   "cell_type": "markdown",
   "metadata": {},
   "source": [
    "## Day 2: Cube Conundrum\n",
    "\n",
    "You're launched high into the atmosphere! The apex of your trajectory just barely reaches the surface of a large island floating in the sky. You gently land in a fluffy pile of leaves. It's quite cold, but you don't see much snow. An Elf runs over to greet you.\n",
    "\n",
    "The Elf explains that you've arrived at Snow Island and apologizes for the lack of snow. He'll be happy to explain the situation, but it's a bit of a walk, so you have some time. They don't get many visitors up here; would you like to play a game in the meantime?\n",
    "\n",
    "As you walk, the Elf shows you a small bag and some cubes which are either red, green, or blue. Each time you play this game, he will hide a secret number of cubes of each color in the bag, and your goal is to figure out information about the number of cubes.\n",
    "\n",
    "To get information, once a bag has been loaded with cubes, the Elf will reach into the bag, grab a handful of random cubes, show them to you, and then put them back in the bag. He'll do this a few times per game.\n",
    "\n",
    "You play several games and record the information from each game (your puzzle input). Each game is listed with its ID number (like the 11 in Game 11: ...) followed by a semicolon-separated list of subsets of cubes that were revealed from the bag (like 3 red, 5 green, 4 blue).\n",
    "\n",
    "For example, the record of a few games might look like this:\n",
    "```\n",
    "Game 1: 3 blue, 4 red; 1 red, 2 green, 6 blue; 2 green\n",
    "Game 2: 1 blue, 2 green; 3 green, 4 blue, 1 red; 1 green, 1 blue\n",
    "Game 3: 8 green, 6 blue, 20 red; 5 blue, 4 red, 13 green; 5 green, 1 red\n",
    "Game 4: 1 green, 3 red, 6 blue; 3 green, 6 red; 3 green, 15 blue, 14 red\n",
    "Game 5: 6 red, 1 blue, 3 green; 2 blue, 1 red, 2 green\n",
    "```\n",
    "In game 1, three sets of cubes are revealed from the bag (and then put back again). The first set is 3 blue cubes and 4 red cubes; the second set is 1 red cube, 2 green cubes, and 6 blue cubes; the third set is only 2 green cubes.\n",
    "\n",
    "The Elf would first like to know which games would have been possible if the bag contained only 12 red cubes, 13 green cubes, and 14 blue cubes?\n",
    "\n",
    "In the example above, games 1, 2, and 5 would have been possible if the bag had been loaded with that configuration. However, game 3 would have been impossible because at one point the Elf showed you 20 red cubes at once; similarly, game 4 would also have been impossible because the Elf showed you 15 blue cubes at once. If you add up the IDs of the games that would have been possible, you get 8.\n",
    "\n",
    "Determine which games would have been possible if the bag had been loaded with only 12 red cubes, 13 green cubes, and 14 blue cubes. What is the sum of the IDs of those games?"
   ]
  },
  {
   "cell_type": "code",
   "execution_count": 7,
   "metadata": {},
   "outputs": [],
   "source": [
    "def parseLine(line):\n",
    "    gameNum = int(re.findall(\"Game (\\d+):\", line)[0])\n",
    "    line = line.split(\":\")[-1]\n",
    "    draws = [x.strip() for x in line.split(\";\")]\n",
    "    reds = [int(x) for x in re.findall(\"(\\d+) red\", line)]\n",
    "    blues = [int(x) for x in re.findall(\"(\\d+) blue\", line)]\n",
    "    greens = [int(x) for x in re.findall(\"(\\d+) green\", line)]\n",
    "    return gameNum, {\"red\":reds, \"green\":greens, \"blue\":blues}\n",
    "\n",
    "def loadGameInputs(fp):\n",
    "    with open(fp, \"r\") as f:\n",
    "        raw = [x.strip() for x in f.readlines()]\n",
    "    gameInputs = {}\n",
    "    for a in raw:\n",
    "        gameNum, result = parseLine(a)\n",
    "        gameInputs[gameNum] = result\n",
    "    return gameInputs\n",
    "\n",
    "def checkValid(truthValue:int, lst:list[int]):\n",
    "    return all(x <= truthValue for x in lst)\n",
    "\n",
    "def getSolution(gameInputs, red:int, green:int, blue:int):\n",
    "    ans = []\n",
    "    for gameNum, gameInput in gameInputs.items():\n",
    "        redValidity = checkValid(truthValue=red, lst=gameInput[\"red\"])\n",
    "        blueValidity = checkValid(truthValue=blue, lst=gameInput[\"blue\"])\n",
    "        greenValidity = checkValid(truthValue=green, lst=gameInput[\"green\"])\n",
    "        if all([redValidity, blueValidity, greenValidity]):\n",
    "            ans.append(gameNum)\n",
    "    return sum(ans)"
   ]
  },
  {
   "cell_type": "code",
   "execution_count": 8,
   "metadata": {},
   "outputs": [
    {
     "data": {
      "text/plain": [
       "2237"
      ]
     },
     "execution_count": 8,
     "metadata": {},
     "output_type": "execute_result"
    }
   ],
   "source": [
    "gameInputs = loadGameInputs(\"Code Inputs/Day 2.txt\")\n",
    "getSolution(gameInputs=gameInputs, red=12, green=13, blue=14)"
   ]
  },
  {
   "cell_type": "markdown",
   "metadata": {},
   "source": [
    "--- Part Two ---\n",
    "The Elf says they've stopped producing snow because they aren't getting any water! He isn't sure why the water stopped; however, he can show you how to get to the water source to check it out for yourself. It's just up ahead!\n",
    "\n",
    "As you continue your walk, the Elf poses a second question: in each game you played, what is the fewest number of cubes of each color that could have been in the bag to make the game possible?\n",
    "\n",
    "Again consider the example games from earlier:\n",
    "\n",
    "```\n",
    "Game 1: 3 blue, 4 red; 1 red, 2 green, 6 blue; 2 green\n",
    "Game 2: 1 blue, 2 green; 3 green, 4 blue, 1 red; 1 green, 1 blue\n",
    "Game 3: 8 green, 6 blue, 20 red; 5 blue, 4 red, 13 green; 5 green, 1 red\n",
    "Game 4: 1 green, 3 red, 6 blue; 3 green, 6 red; 3 green, 15 blue, 14 red\n",
    "Game 5: 6 red, 1 blue, 3 green; 2 blue, 1 red, 2 green\n",
    "```\n",
    "In game 1, the game could have been played with as few as 4 red, 2 green, and 6 blue cubes. If any color had even one fewer cube, the game would have been impossible.\n",
    "Game 2 could have been played with a minimum of 1 red, 3 green, and 4 blue cubes.\n",
    "Game 3 must have been played with at least 20 red, 13 green, and 6 blue cubes.\n",
    "Game 4 required at least 14 red, 3 green, and 15 blue cubes.\n",
    "Game 5 needed no fewer than 6 red, 3 green, and 2 blue cubes in the bag.\n",
    "The power of a set of cubes is equal to the numbers of red, green, and blue cubes multiplied together. The power of the minimum set of cubes in game 1 is 48. In games 2-5 it was 12, 1560, 630, and 36, respectively. Adding up these five powers produces the sum 2286.\n",
    "\n",
    "For each game, find the minimum set of cubes that must have been present. What is the sum of the power of these sets?"
   ]
  },
  {
   "cell_type": "code",
   "execution_count": 9,
   "metadata": {},
   "outputs": [],
   "source": [
    "def getPart2Solution(gameInputs):\n",
    "    result = []\n",
    "    for gameNum, gameInput in gameInputs.items():\n",
    "        minRed = max(gameInput[\"red\"] + [0])\n",
    "        minBlue = max(gameInput[\"blue\"] + [0])\n",
    "        minGreen = max(gameInput[\"green\"] + [0])\n",
    "        result.append(minRed * minBlue * minGreen)\n",
    "    return sum(result)"
   ]
  },
  {
   "cell_type": "code",
   "execution_count": 10,
   "metadata": {},
   "outputs": [
    {
     "data": {
      "text/plain": [
       "66681"
      ]
     },
     "execution_count": 10,
     "metadata": {},
     "output_type": "execute_result"
    }
   ],
   "source": [
    "getPart2Solution(gameInputs=gameInputs)"
   ]
  },
  {
   "cell_type": "markdown",
   "metadata": {},
   "source": [
    "## Day 3: Gear Ratios\n",
    "You and the Elf eventually reach a gondola lift station; he says the gondola lift will take you up to the water source, but this is as far as he can bring you. You go inside.\n",
    "\n",
    "It doesn't take long to find the gondolas, but there seems to be a problem: they're not moving.\n",
    "\n",
    "\"Aaah!\"\n",
    "\n",
    "You turn around to see a slightly-greasy Elf with a wrench and a look of surprise. \"Sorry, I wasn't expecting anyone! The gondola lift isn't working right now; it'll still be a while before I can fix it.\" You offer to help.\n",
    "\n",
    "The engineer explains that an engine part seems to be missing from the engine, but nobody can figure out which one. If you can add up all the part numbers in the engine schematic, it should be easy to work out which part is missing.\n",
    "\n",
    "The engine schematic (your puzzle input) consists of a visual representation of the engine. There are lots of numbers and symbols you don't really understand, but apparently any number adjacent to a symbol, even diagonally, is a \"part number\" and should be included in your sum. (Periods (.) do not count as a symbol.)\n",
    "\n",
    "Here is an example engine schematic:\n",
    "\n",
    "```\n",
    "467..114..\n",
    "...*......\n",
    "..35..633.\n",
    "......#...\n",
    "617*......\n",
    ".....+.58.\n",
    "..592.....\n",
    "......755.\n",
    "...$.*....\n",
    ".664.598..\n",
    "```\n",
    "\n",
    "In this schematic, two numbers are not part numbers because they are not adjacent to a symbol: 114 (top right) and 58 (middle right). Every other number is adjacent to a symbol and so is a part number; their sum is 4361.\n",
    "\n",
    "Of course, the actual engine schematic is much larger. What is the sum of all of the part numbers in the engine schematic?"
   ]
  },
  {
   "cell_type": "code",
   "execution_count": 11,
   "metadata": {},
   "outputs": [],
   "source": [
    "def getData2D(data):\n",
    "    data2D = np.array([[x for x in d] for d in data], dtype=\"U10\") # dtype is important here so as to store the string properly without missing characters\n",
    "    for i, d in enumerate(data):\n",
    "        numbers = re.findall(\"\\d+\", d)\n",
    "        timeToReplace = [len(num) for num in numbers]\n",
    "        numReplacement = []\n",
    "        [numReplacement.extend([n]*x) for n,x in zip(numbers,timeToReplace)]\n",
    "        row = data2D[i]\n",
    "        counter = 0\n",
    "        for j, r in enumerate(row):\n",
    "            if r.isnumeric():\n",
    "                data2D[i,j] = numReplacement[counter]\n",
    "                counter += 1\n",
    "    return data2D"
   ]
  },
  {
   "cell_type": "code",
   "execution_count": 12,
   "metadata": {},
   "outputs": [],
   "source": [
    "def getSymbolCoords(data2D, symbol):\n",
    "    symbolCoords = []\n",
    "    pos = np.where(data2D == symbol)\n",
    "    pos2D = list(zip(pos[0], pos[1]))\n",
    "    symbolCoords.extend(pos2D)\n",
    "    return symbolCoords"
   ]
  },
  {
   "cell_type": "code",
   "execution_count": 13,
   "metadata": {},
   "outputs": [],
   "source": [
    "def checkNeighbors(data2D, pos):\n",
    "    dirs = [\n",
    "        (-1, 0), # top\n",
    "        (1, 0),  # bot\n",
    "        (0, -1), # left\n",
    "        (0, 1),  # right\n",
    "        (-1, 1), # top right\n",
    "        (1, 1),  # bot right\n",
    "        (-1, -1), # top left\n",
    "        (1, -1), # bot left\n",
    "    ]\n",
    "    result = []\n",
    "    for dir in dirs:\n",
    "        try:\n",
    "            newPos = np.array(pos) + np.array(dir)\n",
    "            element = data2D[newPos[0], newPos[1]]\n",
    "            if element.isdigit():\n",
    "                result.append(newPos)\n",
    "        except:\n",
    "            pass\n",
    "    return result"
   ]
  },
  {
   "cell_type": "code",
   "execution_count": 14,
   "metadata": {},
   "outputs": [],
   "source": [
    "def getNumbers(data2D, neighbors):\n",
    "    numbers = []\n",
    "    for neighbor in neighbors:\n",
    "        numbers.append(int(data2D[neighbor[0], neighbor[1]]))\n",
    "    return list(set(numbers))"
   ]
  },
  {
   "cell_type": "code",
   "execution_count": 15,
   "metadata": {},
   "outputs": [],
   "source": [
    "def solveDay3Part1():\n",
    "    with open(\"Code Inputs/Day 3.txt\", \"r\") as f:\n",
    "        data = [x.strip() for x in f.readlines()]\n",
    "    symbols = [x for x in set(\"\".join(data)) if not x.isdigit() and x != \".\"]\n",
    "    data2D = getData2D(data)\n",
    "    symbolsCoords = []\n",
    "    for symbol in symbols:\n",
    "        symbolsCoords.extend(getSymbolCoords(data2D, symbol=symbol))\n",
    "    ans = []\n",
    "    for symbolCoord in symbolsCoords:\n",
    "        neighbours = checkNeighbors(data2D, symbolCoord)\n",
    "        numbers = getNumbers(data2D, neighbours)\n",
    "        ans.extend(numbers)\n",
    "    return sum(ans)"
   ]
  },
  {
   "cell_type": "code",
   "execution_count": 16,
   "metadata": {},
   "outputs": [
    {
     "data": {
      "text/plain": [
       "527446"
      ]
     },
     "execution_count": 16,
     "metadata": {},
     "output_type": "execute_result"
    }
   ],
   "source": [
    "solveDay3Part1()"
   ]
  },
  {
   "cell_type": "markdown",
   "metadata": {},
   "source": [
    "--- Part Two ---\n",
    "The engineer finds the missing part and installs it in the engine! As the engine springs to life, you jump in the closest gondola, finally ready to ascend to the water source.\n",
    "\n",
    "You don't seem to be going very fast, though. Maybe something is still wrong? Fortunately, the gondola has a phone labeled \"help\", so you pick it up and the engineer answers.\n",
    "\n",
    "Before you can explain the situation, she suggests that you look out the window. There stands the engineer, holding a phone in one hand and waving with the other. You're going so slowly that you haven't even left the station. You exit the gondola.\n",
    "\n",
    "The missing part wasn't the only issue - one of the gears in the engine is wrong. A gear is any * symbol that is adjacent to exactly two part numbers. Its gear ratio is the result of multiplying those two numbers together.\n",
    "\n",
    "This time, you need to find the gear ratio of every gear and add them all up so that the engineer can figure out which gear needs to be replaced.\n",
    "\n",
    "Consider the same engine schematic again:\n",
    "\n",
    "```\n",
    "467..114..\n",
    "...*......\n",
    "..35..633.\n",
    "......#...\n",
    "617*......\n",
    ".....+.58.\n",
    "..592.....\n",
    "......755.\n",
    "...$.*....\n",
    ".664.598..\n",
    "```\n",
    "In this schematic, there are two gears. The first is in the top left; it has part numbers 467 and 35, so its gear ratio is 16345. The second gear is in the lower right; its gear ratio is 451490. (The * adjacent to 617 is not a gear because it is only adjacent to one part number.) Adding up all of the gear ratios produces 467835.\n",
    "\n",
    "What is the sum of all of the gear ratios in your engine schematic?"
   ]
  },
  {
   "cell_type": "code",
   "execution_count": 17,
   "metadata": {},
   "outputs": [],
   "source": [
    "def solveDay3Part2():\n",
    "    with open(\"Code Inputs/Day 3.txt\", \"r\") as f:\n",
    "        data = [x.strip() for x in f.readlines()]\n",
    "    data2D = getData2D(data)\n",
    "    symbolsCoords = getSymbolCoords(data2D, symbol=\"*\")\n",
    "    ans = []\n",
    "    for symbolCoord in symbolsCoords:\n",
    "        neighbours = checkNeighbors(data2D, symbolCoord) \n",
    "        numbers = getNumbers(data2D, neighbours)\n",
    "        if len(numbers) == 2:\n",
    "            ans.append(numbers[0]*numbers[1])\n",
    "    return sum(ans)"
   ]
  },
  {
   "cell_type": "code",
   "execution_count": 18,
   "metadata": {},
   "outputs": [
    {
     "data": {
      "text/plain": [
       "73201705"
      ]
     },
     "execution_count": 18,
     "metadata": {},
     "output_type": "execute_result"
    }
   ],
   "source": [
    "solveDay3Part2()"
   ]
  },
  {
   "cell_type": "markdown",
   "metadata": {},
   "source": []
  }
 ],
 "metadata": {
  "kernelspec": {
   "display_name": "Python 3",
   "language": "python",
   "name": "python3"
  },
  "language_info": {
   "codemirror_mode": {
    "name": "ipython",
    "version": 3
   },
   "file_extension": ".py",
   "mimetype": "text/x-python",
   "name": "python",
   "nbconvert_exporter": "python",
   "pygments_lexer": "ipython3",
   "version": "3.11.3"
  }
 },
 "nbformat": 4,
 "nbformat_minor": 2
}
